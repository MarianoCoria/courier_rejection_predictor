{
 "cells": [
  {
   "cell_type": "code",
   "execution_count": null,
   "metadata": {},
   "outputs": [],
   "source": [
    "import yaml\n",
    "import glob\n",
    "import numpy as np\n",
    "import pickle\n",
    "import pandas as pd\n",
    "import sqlite3\n"
   ]
  },
  {
   "cell_type": "code",
   "execution_count": null,
   "metadata": {},
   "outputs": [],
   "source": [
    "LABEL = 'taken'\n",
    "FEATURES_TO_DISCRETIZE = ['to_user_distance'\n",
    "                          ,'to_user_elevation'\n",
    "                          ,'total_earning'\n",
    "                         ]\n",
    "\n",
    "DISCRETE_FEATURES = ['day_risk_group_1'\n",
    "                     ,'day_risk_group_2'\n",
    "                     ,'day_risk_group_3'\n",
    "                     ,'day_risk_group_4'\n",
    "                    ]\n",
    "\n",
    "REG_FEATURES = ['store_not_taken_rate_2d'\n",
    "                ,'store_not_taken_rate_1d'\n",
    "                ,'store_not_taken_rate_12h'\n",
    "                ,'store_not_taken_rate_3h'\n",
    "                ,'store_not_taken_rate_1h'\n",
    "                ,'to_user_distance'\n",
    "                ,'total_earning'\n",
    "                ,'to_user_elevation'\n",
    "               ]"
   ]
  },
  {
   "cell_type": "code",
   "execution_count": null,
   "metadata": {},
   "outputs": [],
   "source": [
    "df = pd.read_csv('../dataset/raw_dataset.csv')\n"
   ]
  },
  {
   "cell_type": "code",
   "execution_count": null,
   "metadata": {},
   "outputs": [],
   "source": [
    "df['day_of_week'] = pd.to_datetime(df['created_at']).apply(lambda x: '{dayofweek}'.format(dayofweek=x.dayofweek)).astype(str)\n",
    "\n",
    "day_risk_groups = {\n",
    "    'day_risk_group_1' : ['5']\n",
    "    ,'day_risk_group_2' : ['0','3','4']\n",
    "    ,'day_risk_group_3' : ['1','2']\n",
    "    ,'day_risk_group_4' : ['6']\n",
    "}\n"
   ]
  },
  {
   "cell_type": "code",
   "execution_count": null,
   "metadata": {},
   "outputs": [],
   "source": [
    "for risk_group in day_risk_groups:\n",
    "    df[risk_group] = (df.day_of_week.isin(day_risk_groups[risk_group])).astype(int)\n"
   ]
  },
  {
   "cell_type": "code",
   "execution_count": null,
   "metadata": {},
   "outputs": [],
   "source": [
    "conn = sqlite3.connect('raw_dataset.db')\n",
    "df.to_sql('couriers_rejection',conn, if_exists='replace')\n"
   ]
  },
  {
   "cell_type": "code",
   "execution_count": null,
   "metadata": {},
   "outputs": [],
   "source": [
    "with open('sql_queries/store_not_taken_rates.sql', 'r') as query_file:\n",
    "    store_rates_query = query_file.read()\n",
    "    df_store_rates = pd.read_sql_query(store_rates_query, conn).fillna(0)\n"
   ]
  },
  {
   "cell_type": "code",
   "execution_count": null,
   "metadata": {},
   "outputs": [],
   "source": [
    "df = pd.merge(left=df,right=df_store_rates, left_on='order_id', right_on='order_id')\n"
   ]
  },
  {
   "cell_type": "code",
   "execution_count": null,
   "metadata": {},
   "outputs": [],
   "source": [
    "\n",
    "#discrete features\n",
    "discretized_dataset = df[DISCRETE_FEATURES + REG_FEATURES]\n",
    "\n",
    "quantiles = [0, .25, .75, .9, .95, 1.]\n",
    "\n",
    "#get quantiles for each column\n",
    "for feature in FEATURES_TO_DISCRETIZE:\n",
    "    discretized_dataset['discrete_'+feature] = pd.qcut(df[feature], q=quantiles, labels=range(1,len(quantiles)))\n",
    "\n",
    "#one-hot encoding\n",
    "discretized_dataset = pd.get_dummies(discretized_dataset)\n",
    "\n",
    "#add labels\n",
    "discretized_dataset[LABEL] = pd.to_numeric(df[LABEL])\n",
    "\n",
    "#print result\n",
    "discretized_dataset.head(50)"
   ]
  },
  {
   "cell_type": "code",
   "execution_count": null,
   "metadata": {},
   "outputs": [],
   "source": [
    "discretized_dataset.to_pickle('../dataset/discretized_dataset')"
   ]
  },
  {
   "cell_type": "code",
   "execution_count": null,
   "metadata": {},
   "outputs": [],
   "source": [
    "# Features correlation coefficent to label\n",
    "fi = pd.DataFrame({'feature': list(discretized_dataset),\n",
    "                   'correlation': discretized_dataset.corr()[LABEL].abs(),\n",
    "                   'true correlation': discretized_dataset.corr()[LABEL]}).\\\n",
    "                    sort_values('correlation', ascending = False)\n",
    "\n",
    "fi[fi.feature!=LABEL].head(20).plot.bar(x='feature', y ='true correlation')"
   ]
  },
  {
   "cell_type": "code",
   "execution_count": null,
   "metadata": {},
   "outputs": [],
   "source": []
  }
 ],
 "metadata": {
  "kernelspec": {
   "display_name": "Python 3",
   "language": "python",
   "name": "python3"
  },
  "language_info": {
   "codemirror_mode": {
    "name": "ipython",
    "version": 3
   },
   "file_extension": ".py",
   "mimetype": "text/x-python",
   "name": "python",
   "nbconvert_exporter": "python",
   "pygments_lexer": "ipython3",
   "version": "3.7.3"
  }
 },
 "nbformat": 4,
 "nbformat_minor": 2
}
