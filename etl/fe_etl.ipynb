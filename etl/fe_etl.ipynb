{
 "cells": [
  {
   "cell_type": "code",
   "execution_count": null,
   "metadata": {},
   "outputs": [],
   "source": [
    "import yaml\n",
    "import glob\n",
    "import numpy as np\n",
    "import pickle\n",
    "import pandas as pd\n"
   ]
  },
  {
   "cell_type": "code",
   "execution_count": null,
   "metadata": {},
   "outputs": [],
   "source": [
    "LABEL = 'taken'\n",
    "FEATURES_TO_DISCRETIZE = ['to_user_distance','to_user_elevation','total_earning','to_user_elevation']\n",
    "DISCRETE_FEATURES = ['day_of_week']\n"
   ]
  },
  {
   "cell_type": "code",
   "execution_count": null,
   "metadata": {},
   "outputs": [],
   "source": [
    "df = pd.read_csv('../dataset/raw_dataset.csv')\n"
   ]
  },
  {
   "cell_type": "code",
   "execution_count": null,
   "metadata": {},
   "outputs": [],
   "source": [
    "df['day_of_week'] = pd.to_datetime(df['created_at']).apply(lambda x: '{dayofweek}'.format(dayofweek=x.dayofweek)).astype(str)\n",
    "\n",
    "\n",
    "backtest['deferred'] = np.stack([ backtest['outlier'][i-days_deferred:i+1].sum()>0 for i in range(0,len(backtest['outlier']))])\n",
    "\n",
    "taken[]\n",
    "\n"
   ]
  },
  {
   "cell_type": "code",
   "execution_count": null,
   "metadata": {},
   "outputs": [],
   "source": [
    "quantiles = [0, .5, .75, .9, 1.]\n",
    "\n",
    "#discrete features\n",
    "discretized_dataset = df[DISCRETE_FEATURES].astype(str)\n",
    "\n",
    "#get quantiles for each column\n",
    "for feature in FEATURES_TO_DISCRETIZE:\n",
    "    discretized_dataset[feature] = pd.qcut(df[feature], q=quantiles, labels=range(1,len(quantiles)))\n",
    "\n",
    "#one-hot encoding\n",
    "discretized_dataset = pd.get_dummies(discretized_dataset)\n",
    "\n",
    "discretized_dataset[LABEL] = pd.to_numeric(df[LABEL])\n",
    "\n",
    "#print result\n",
    "discretized_dataset"
   ]
  },
  {
   "cell_type": "code",
   "execution_count": null,
   "metadata": {},
   "outputs": [],
   "source": [
    "discretized_dataset.to_pickle('../dataset/quantiles_discretized_dataset')"
   ]
  },
  {
   "cell_type": "code",
   "execution_count": null,
   "metadata": {},
   "outputs": [],
   "source": [
    "# Features correlation coefficent to label\n",
    "fi = pd.DataFrame({'feature': list(discretized_dataset),\n",
    "                   'correlation': discretized_dataset.corr()[LABEL].abs(),\n",
    "                   'true correlation': discretized_dataset.corr()[LABEL]}).\\\n",
    "                    sort_values('correlation', ascending = False)\n",
    "\n",
    "fi[fi.feature!=LABEL].head(10).plot.bar(x='feature', y ='true correlation')"
   ]
  },
  {
   "cell_type": "code",
   "execution_count": null,
   "metadata": {},
   "outputs": [],
   "source": []
  }
 ],
 "metadata": {
  "kernelspec": {
   "display_name": "Python 3",
   "language": "python",
   "name": "python3"
  },
  "language_info": {
   "codemirror_mode": {
    "name": "ipython",
    "version": 3
   },
   "file_extension": ".py",
   "mimetype": "text/x-python",
   "name": "python",
   "nbconvert_exporter": "python",
   "pygments_lexer": "ipython3",
   "version": "3.7.3"
  }
 },
 "nbformat": 4,
 "nbformat_minor": 2
}
